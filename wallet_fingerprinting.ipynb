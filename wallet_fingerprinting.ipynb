{
 "cells": [
  {
   "cell_type": "code",
   "execution_count": null,
   "id": "34321f09-946e-4ed2-8563-33d6afd30341",
   "metadata": {},
   "outputs": [],
   "source": [
    "from fetch_txs import bitcoin_client\n",
    "from fingerprinting import analyze_block, detect_wallet"
   ]
  },
  {
   "cell_type": "code",
   "execution_count": null,
   "id": "c3ff1059-9e15-468a-80d5-34a365c6c55b",
   "metadata": {},
   "outputs": [],
   "source": [
    "# Electrum Transaction\n",
    "\n",
    "detect_wallet(bitcoin_client.get_tx(\"5d857401648a667303cde43295bce1326e6329353eac3dddf15b151e701405e7\"))"
   ]
  },
  {
   "cell_type": "code",
   "execution_count": null,
   "id": "e44e5f03-2194-4fad-81ae-c90c286277aa",
   "metadata": {},
   "outputs": [],
   "source": [
    "# Ledger Transaction\n",
    "\n",
    "detect_wallet(bitcoin_client.get_tx(\"C1094c70a9b23ca5d755234cffefca69f639d7a938f745dfd1190cc9c9d8b5ad\"))"
   ]
  },
  {
   "cell_type": "code",
   "execution_count": null,
   "id": "dff24b85-0a2b-43b8-9f83-b5c48bf4bfae",
   "metadata": {},
   "outputs": [],
   "source": [
    "# Trezor Transaction\n",
    "\n",
    "detect_wallet(bitcoin_client.get_tx(\"87670b12778d17c759db459479d66acfd1c4d444094270991d8e1de09a56cc7c\"))"
   ]
  },
  {
   "cell_type": "code",
   "execution_count": null,
   "id": "eba1323b-ec9c-4212-beea-d71bd853c294",
   "metadata": {},
   "outputs": [],
   "source": [
    "# Blue Wallet Transaction\n",
    "\n",
    "detect_wallet(bitcoin_client.get_tx(\"1bf659e17568e48d6f47bb5470bc8df567cfe89d79c6e38cafbe798f43d5da22\"))"
   ]
  },
  {
   "cell_type": "code",
   "execution_count": null,
   "id": "50b1d64c-e81f-4525-9b88-a13ccc3d838b",
   "metadata": {},
   "outputs": [],
   "source": [
    "# Exodus Transaction\n",
    "\n",
    "detect_wallet(bitcoin_client.get_tx(\"6f8c37db6ed88bfd0fd483963ebf06c5557326f8d2a3617af5ceba878442e1ad\"))"
   ]
  },
  {
   "cell_type": "code",
   "execution_count": null,
   "id": "9e2f85c8-3835-4e16-916c-c4fc462024a8",
   "metadata": {},
   "outputs": [],
   "source": [
    "# Look at the first 100 transactions of the latest block\n",
    "\n",
    "analyze_block(first_n_txs=100).shorten"
   ]
  },
  {
   "cell_type": "code",
   "execution_count": null,
   "id": "5f7613e1-a3b5-4a9f-9802-55859c90edd5",
   "metadata": {},
   "outputs": [],
   "source": []
  }
 ],
 "metadata": {
  "kernelspec": {
   "display_name": "Python 3 (ipykernel)",
   "language": "python",
   "name": "python3"
  },
  "language_info": {
   "codemirror_mode": {
    "name": "ipython",
    "version": 3
   },
   "file_extension": ".py",
   "mimetype": "text/x-python",
   "name": "python",
   "nbconvert_exporter": "python",
   "pygments_lexer": "ipython3",
   "version": "3.12.2"
  }
 },
 "nbformat": 4,
 "nbformat_minor": 5
}
